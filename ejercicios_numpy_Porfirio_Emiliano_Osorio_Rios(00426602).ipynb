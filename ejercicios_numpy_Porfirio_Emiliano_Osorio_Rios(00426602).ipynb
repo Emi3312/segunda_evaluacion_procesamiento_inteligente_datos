{
 "cells": [
  {
   "cell_type": "markdown",
   "id": "67c848e8-57b3-4809-99ca-31c5de2d7bdc",
   "metadata": {},
   "source": [
    "# Parte 1: Creación y manipulación de arrays"
   ]
  },
  {
   "cell_type": "markdown",
   "id": "3360b0da-db56-4505-9b83-cd35f7dfcb81",
   "metadata": {},
   "source": [
    "## Crear un array: Crea un array de 10 elementos enteros aleatorios entre 1 y 100. Imprime el array generado."
   ]
  },
  {
   "cell_type": "code",
   "execution_count": 3,
   "id": "da4a3534-d890-417c-b03e-e3d5f67d562b",
   "metadata": {},
   "outputs": [
    {
     "name": "stdout",
     "output_type": "stream",
     "text": [
      "Array generado: [63 44 91 90 35 73 13 56 60 38]\n"
     ]
    }
   ],
   "source": [
    "import numpy as np\n",
    "\n",
    "# Generamos el array de 10 enteros aleatorios entre 1 y 100\n",
    "array = np.random.randint(1, 101, size=10)\n",
    "print(\"Array generado:\", array)\n"
   ]
  },
  {
   "cell_type": "markdown",
   "id": "abec659e-78cd-43e9-bc21-e154297a2c87",
   "metadata": {},
   "source": [
    "*Utilizamos np.random.randint(1, 101, size=10) para generar 10 números enteros aleatorios entre 1 y 100 (el límite superior es exclusivo, por eso ponemos 101).*"
   ]
  },
  {
   "cell_type": "markdown",
   "id": "585a4588-797d-4219-9423-aafbe55c4370",
   "metadata": {},
   "source": [
    "## Reshape: A partir del array anterior, convierte este array en una matriz de 2x5."
   ]
  },
  {
   "cell_type": "code",
   "execution_count": 4,
   "id": "4143010f-efe1-4a63-a3c8-3aba367f37e6",
   "metadata": {},
   "outputs": [
    {
     "name": "stdout",
     "output_type": "stream",
     "text": [
      "Matriz 2x5:\n",
      " [[63 44 91 90 35]\n",
      " [73 13 56 60 38]]\n"
     ]
    }
   ],
   "source": [
    "# Convertimos el array en una matriz de 2x5\n",
    "matriz = array.reshape(2, 5)\n",
    "print(\"Matriz 2x5:\\n\", matriz)\n"
   ]
  },
  {
   "cell_type": "markdown",
   "id": "3370e94a-44bc-4621-aecd-248765721da5",
   "metadata": {},
   "source": [
    "*Usamos reshape(2, 5) para cambiar la forma del array a una matriz de 2 filas y 5 columnas.*"
   ]
  },
  {
   "cell_type": "markdown",
   "id": "d9f1d533-28d8-48cc-88d7-159f447e8633",
   "metadata": {},
   "source": [
    "## Indexación y slicing: De la matriz obtenida, extrae la primera fila y la última columna. Imprime ambos resultados por separado."
   ]
  },
  {
   "cell_type": "code",
   "execution_count": 5,
   "id": "946bcf5b-846e-41e2-b0a8-ac8bc72068b9",
   "metadata": {},
   "outputs": [
    {
     "name": "stdout",
     "output_type": "stream",
     "text": [
      "Primera fila: [63 44 91 90 35]\n",
      "Última columna: [35 38]\n"
     ]
    }
   ],
   "source": [
    "# Extraemos la primera fila\n",
    "primera_fila = matriz[0, :]\n",
    "print(\"Primera fila:\", primera_fila)\n",
    "\n",
    "# Extraemos la última columna\n",
    "ultima_columna = matriz[:, -1]\n",
    "print(\"Última columna:\", ultima_columna)\n"
   ]
  },
  {
   "cell_type": "markdown",
   "id": "5a6b1bc0-6521-4721-9718-4db72a1ac4df",
   "metadata": {},
   "source": [
    "*Para la primera fila, usamos matriz[0, :], que selecciona la fila en el índice 0. Para la última columna, usamos matriz[:, -1], que selecciona todas las filas en la última columna.*"
   ]
  },
  {
   "cell_type": "markdown",
   "id": "4e329733-f6f0-4280-a3f4-285b39b467ab",
   "metadata": {},
   "source": [
    "## Modificación: Cambia el valor de los elementos en la segunda fila a ceros."
   ]
  },
  {
   "cell_type": "code",
   "execution_count": 6,
   "id": "405ee501-5e9d-416d-a70a-2e08b677283b",
   "metadata": {},
   "outputs": [
    {
     "name": "stdout",
     "output_type": "stream",
     "text": [
      "Matriz después de modificar la segunda fila a ceros:\n",
      " [[63 44 91 90 35]\n",
      " [ 0  0  0  0  0]]\n"
     ]
    }
   ],
   "source": [
    "# Cambiamos los valores de la segunda fila a ceros\n",
    "matriz[1, :] = 0\n",
    "print(\"Matriz después de modificar la segunda fila a ceros:\\n\", matriz)\n"
   ]
  },
  {
   "cell_type": "markdown",
   "id": "ab9c3aea-9d9a-491a-9508-1dc9e78fc82b",
   "metadata": {},
   "source": [
    "# Parte 2: Operaciones básicas con NumPy"
   ]
  },
  {
   "cell_type": "markdown",
   "id": "c9dac5aa-94cb-46fa-b5cc-17fb7941dc01",
   "metadata": {},
   "source": [
    "## Operaciones aritméticas:"
   ]
  },
  {
   "cell_type": "markdown",
   "id": "e8abb845-cec8-4f9c-ad42-d014f7670506",
   "metadata": {},
   "source": [
    "### Crea dos arrays de 5 elementos enteros aleatorios entre 1 y 50."
   ]
  },
  {
   "cell_type": "code",
   "execution_count": 13,
   "id": "bae74838-03c6-4df0-a8e5-2504b276bcf8",
   "metadata": {},
   "outputs": [
    {
     "name": "stdout",
     "output_type": "stream",
     "text": [
      "Array 1: [15 31 47 41 47]\n",
      "Array 2: [23 17 36 25 31]\n"
     ]
    }
   ],
   "source": [
    "# Creamos dos arrays de 5 elementos enteros aleatorios entre 1 y 50\n",
    "array1 = np.random.randint(1, 51, size=5)\n",
    "array2 = np.random.randint(1, 51, size=5)\n",
    "print(\"Array 1:\", array1)\n",
    "print(\"Array 2:\", array2)\n"
   ]
  },
  {
   "cell_type": "markdown",
   "id": "682a15f7-71c9-46d5-9175-89e0097ae3fd",
   "metadata": {},
   "source": [
    "### Suma ambos arrays y luego multiplícalos entre sí."
   ]
  },
  {
   "cell_type": "code",
   "execution_count": 14,
   "id": "195493b4-37d4-4391-8dfc-aae20900a462",
   "metadata": {},
   "outputs": [
    {
     "name": "stdout",
     "output_type": "stream",
     "text": [
      "Suma de los arrays: [38 48 83 66 78]\n",
      "Producto de los arrays: [ 345  527 1692 1025 1457]\n"
     ]
    }
   ],
   "source": [
    "# Sumamos ambos arrays\n",
    "suma = array1 + array2\n",
    "print(\"Suma de los arrays:\", suma)\n",
    "\n",
    "# Multiplicamos ambos arrays elemento a elemento\n",
    "producto = array1 * array2\n",
    "print(\"Producto de los arrays:\", producto)\n"
   ]
  },
  {
   "cell_type": "markdown",
   "id": "738bbb65-7d48-46cc-9c2a-45bbd3bcf111",
   "metadata": {},
   "source": [
    "### Calcula el promedio y la desviación estándar de los resultados obtenidos.\n",
    "\n"
   ]
  },
  {
   "cell_type": "code",
   "execution_count": 15,
   "id": "68349240-e1ac-4f1d-927a-f93ce179d677",
   "metadata": {},
   "outputs": [
    {
     "name": "stdout",
     "output_type": "stream",
     "text": [
      "Promedio de la suma: 62.6\n",
      "Desviación estándar de la suma: 17.22324011328879\n",
      "Promedio del producto: 1009.2\n",
      "Desviación estándar del producto: 517.8163380968198\n"
     ]
    }
   ],
   "source": [
    "# Calculamos el promedio y desviación estándar de la suma\n",
    "promedio_suma = np.mean(suma)\n",
    "desviacion_suma = np.std(suma)\n",
    "print(\"Promedio de la suma:\", promedio_suma)\n",
    "print(\"Desviación estándar de la suma:\", desviacion_suma)\n",
    "\n",
    "# Calculamos el promedio y desviación estándar del producto\n",
    "promedio_producto = np.mean(producto)\n",
    "desviacion_producto = np.std(producto)\n",
    "print(\"Promedio del producto:\", promedio_producto)\n",
    "print(\"Desviación estándar del producto:\", desviacion_producto)\n"
   ]
  },
  {
   "cell_type": "markdown",
   "id": "f99cd42e-4bc8-40f3-9b55-7b8483b37e5b",
   "metadata": {},
   "source": [
    "*Calculamos las estadísticas para ambos resultados por separado para obtener una mejor comprensión de los datos*"
   ]
  },
  {
   "cell_type": "markdown",
   "id": "983cb517-7c51-42e9-9000-3df4b2545808",
   "metadata": {},
   "source": [
    "## Condiciones lógicas: Genera un array de 20 números aleatorios entre 0 y 1. Usa condiciones lógicas para:"
   ]
  },
  {
   "cell_type": "markdown",
   "id": "eab3667c-9a65-4273-9f02-31f557e386c9",
   "metadata": {},
   "source": [
    "- **Reemplazar los valores menores a 0.5 con 0.**\n",
    "- **Reemplazar los valores mayores o iguales a 0.5 con 1.**"
   ]
  },
  {
   "cell_type": "code",
   "execution_count": 16,
   "id": "16e31939-3441-41ee-9bff-dc35ad436668",
   "metadata": {},
   "outputs": [
    {
     "name": "stdout",
     "output_type": "stream",
     "text": [
      "Array aleatorio original: [0.07161956 0.39433941 0.55991428 0.64782354 0.02953628 0.34104955\n",
      " 0.61799201 0.15519551 0.23925863 0.43323882 0.83648995 0.02421738\n",
      " 0.37696188 0.63303863 0.32099636 0.4154565  0.08126568 0.67101271\n",
      " 0.05633721 0.67891072]\n",
      "Array después de aplicar condiciones lógicas: [0. 0. 1. 1. 0. 0. 1. 0. 0. 0. 1. 0. 0. 1. 0. 0. 0. 1. 0. 1.]\n"
     ]
    }
   ],
   "source": [
    "# Generamos un array de 20 números aleatorios entre 0 y 1\n",
    "array_random = np.random.rand(20)\n",
    "print(\"Array aleatorio original:\", array_random)\n",
    "\n",
    "# Reemplazamos los valores menores a 0.5 con 0\n",
    "array_random[array_random < 0.5] = 0\n",
    "\n",
    "# Reemplazamos los valores mayores o iguales a 0.5 con 1\n",
    "array_random[array_random >= 0.5] = 1\n",
    "\n",
    "print(\"Array después de aplicar condiciones lógicas:\", array_random)\n"
   ]
  },
  {
   "cell_type": "markdown",
   "id": "efb3908f-e8de-43b6-bcdd-a7ee1331f9f7",
   "metadata": {},
   "source": [
    "### Producto escalar: Crea dos arrays de tamaño 3x3. Calcula el producto escalar entre ambos."
   ]
  },
  {
   "cell_type": "code",
   "execution_count": 17,
   "id": "6718110a-7755-432a-ba66-13a3e206ef45",
   "metadata": {},
   "outputs": [
    {
     "name": "stdout",
     "output_type": "stream",
     "text": [
      "Matriz 1:\n",
      " [[3 3 4]\n",
      " [4 1 4]\n",
      " [9 7 5]]\n",
      "Matriz 2:\n",
      " [[8 8 2]\n",
      " [6 1 7]\n",
      " [5 6 7]]\n",
      "Producto escalar de las matrices:\n",
      " [[ 62  51  55]\n",
      " [ 58  57  43]\n",
      " [139 109 102]]\n"
     ]
    }
   ],
   "source": [
    "# Creamos dos matrices de tamaño 3x3 con números aleatorios entre 1 y 10\n",
    "matriz1 = np.random.randint(1, 10, size=(3, 3))\n",
    "matriz2 = np.random.randint(1, 10, size=(3, 3))\n",
    "print(\"Matriz 1:\\n\", matriz1)\n",
    "print(\"Matriz 2:\\n\", matriz2)\n",
    "\n",
    "# Calculamos el producto escalar (producto matricial) entre ambas matrices\n",
    "producto_escalar = np.dot(matriz1, matriz2)\n",
    "print(\"Producto escalar de las matrices:\\n\", producto_escalar)\n"
   ]
  },
  {
   "cell_type": "markdown",
   "id": "94036461-eb94-4222-a871-d565edbe8237",
   "metadata": {},
   "source": [
    "*En el contexto de matrices, el \"producto escalar\" se refiere al producto matricial. Usamos np.dot para realizar esta operación.*"
   ]
  },
  {
   "cell_type": "markdown",
   "id": "d8eb028c-df3b-4b39-a9a8-164c845a1a47",
   "metadata": {},
   "source": [
    "# Parte 3: Análisis de datos con NumPy"
   ]
  },
  {
   "cell_type": "markdown",
   "id": "0b5ab01f-fbea-4347-a851-f4a638cd627d",
   "metadata": {},
   "source": [
    "## Matriz de datos: Crea una matriz de 5 filas y 4 columnas que contenga datos aleatorios entre 1 y 20. Cada fila representa a una persona, y cada columna representa una medición diferente (como altura, peso, edad, presión arterial).\n",
    "\n"
   ]
  },
  {
   "cell_type": "code",
   "execution_count": 18,
   "id": "084f89c2-ffc1-4612-8a11-e3de7ad9ec3d",
   "metadata": {},
   "outputs": [
    {
     "name": "stdout",
     "output_type": "stream",
     "text": [
      "Matriz de datos (Personas x Mediciones):\n",
      " [[ 8  4 13 17]\n",
      " [18  1  8 15]\n",
      " [13 10  8 19]\n",
      " [ 6  3 18 14]\n",
      " [ 7  4 10 18]]\n"
     ]
    }
   ],
   "source": [
    "# Creamos la matriz de datos\n",
    "datos = np.random.randint(1, 21, size=(5, 4))\n",
    "print(\"Matriz de datos (Personas x Mediciones):\\n\", datos)\n"
   ]
  },
  {
   "cell_type": "markdown",
   "id": "cd98a95f-73de-4c6f-bf4c-6af9f2c764a4",
   "metadata": {},
   "source": [
    "## Estadísticas:"
   ]
  },
  {
   "cell_type": "markdown",
   "id": "20afaffa-aacd-46a1-bf51-7b1f92e82070",
   "metadata": {},
   "source": [
    "### Calcula la media de cada columna (medición)."
   ]
  },
  {
   "cell_type": "code",
   "execution_count": 19,
   "id": "cf556026-cb33-4866-8dda-2b7050b47184",
   "metadata": {},
   "outputs": [
    {
     "name": "stdout",
     "output_type": "stream",
     "text": [
      "Media de cada medición (columna): [10.4  4.4 11.4 16.6]\n"
     ]
    }
   ],
   "source": [
    "# Calculamos la media de cada columna\n",
    "media_columnas = np.mean(datos, axis=0)\n",
    "print(\"Media de cada medición (columna):\", media_columnas)\n"
   ]
  },
  {
   "cell_type": "markdown",
   "id": "56f5973a-cd2f-4eea-984d-a7ee7d32bd49",
   "metadata": {},
   "source": [
    "*Usamos axis=0 en np.mean para calcular la media a lo largo de las filas, es decir, para cada columna.*"
   ]
  },
  {
   "cell_type": "markdown",
   "id": "4302af37-280d-485f-abb8-6161b7c46aab",
   "metadata": {},
   "source": [
    "### Encuentra el valor máximo y mínimo de cada fila."
   ]
  },
  {
   "cell_type": "code",
   "execution_count": 21,
   "id": "d118b1df-f3e4-4370-9a5f-14453f8702b3",
   "metadata": {},
   "outputs": [
    {
     "name": "stdout",
     "output_type": "stream",
     "text": [
      "Valor máximo de cada persona (fila): [17 18 19 18 18]\n",
      "Valor mínimo de cada persona (fila): [4 1 8 3 4]\n"
     ]
    }
   ],
   "source": [
    "# Encontramos el valor máximo y mínimo de cada fila\n",
    "maximo_filas = np.max(datos, axis=1)\n",
    "minimo_filas = np.min(datos, axis=1)\n",
    "print(\"Valor máximo de cada persona (fila):\", maximo_filas)\n",
    "print(\"Valor mínimo de cada persona (fila):\", minimo_filas)\n"
   ]
  },
  {
   "cell_type": "markdown",
   "id": "9e35e7e9-832a-4ceb-aa7f-4558abbe974b",
   "metadata": {},
   "source": [
    "*Usamos axis=1 para calcular a lo largo de las columnas, es decir, para cada fila.*"
   ]
  },
  {
   "cell_type": "markdown",
   "id": "8c74a0a3-7c4a-4ce5-9c0e-8e9d2b08e24e",
   "metadata": {},
   "source": [
    "### Ordena las filas según los valores de la segunda columna (peso)."
   ]
  },
  {
   "cell_type": "code",
   "execution_count": 22,
   "id": "bbcf1073-2217-4211-85b9-36b3634fe8bb",
   "metadata": {},
   "outputs": [
    {
     "name": "stdout",
     "output_type": "stream",
     "text": [
      "Matriz ordenada según la segunda columna (peso):\n",
      " [[18  1  8 15]\n",
      " [ 6  3 18 14]\n",
      " [ 8  4 13 17]\n",
      " [ 7  4 10 18]\n",
      " [13 10  8 19]]\n"
     ]
    }
   ],
   "source": [
    "# Obtenemos los índices que ordenarían la matriz según la segunda columna (peso)\n",
    "indices_ordenados = np.argsort(datos[:, 1])\n",
    "\n",
    "# Ordenamos la matriz de datos usando estos índices\n",
    "datos_ordenados = datos[indices_ordenados]\n",
    "print(\"Matriz ordenada según la segunda columna (peso):\\n\", datos_ordenados)\n"
   ]
  },
  {
   "cell_type": "markdown",
   "id": "50de60f9-f306-4010-a97e-cafe4238e2d4",
   "metadata": {},
   "source": [
    "*np.argsort(datos[:, 1]) devuelve los índices que ordenarían la segunda columna. Al aplicar estos índices a datos, obtenemos la matriz ordenada según el peso.*"
   ]
  }
 ],
 "metadata": {
  "kernelspec": {
   "display_name": "Python 3 (ipykernel)",
   "language": "python",
   "name": "python3"
  },
  "language_info": {
   "codemirror_mode": {
    "name": "ipython",
    "version": 3
   },
   "file_extension": ".py",
   "mimetype": "text/x-python",
   "name": "python",
   "nbconvert_exporter": "python",
   "pygments_lexer": "ipython3",
   "version": "3.12.6"
  }
 },
 "nbformat": 4,
 "nbformat_minor": 5
}
